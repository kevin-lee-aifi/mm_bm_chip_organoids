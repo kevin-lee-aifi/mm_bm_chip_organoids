{
 "cells": [
  {
   "cell_type": "code",
   "execution_count": 1,
   "id": "2a7781f9-d67c-4daa-93d2-6fd123610c49",
   "metadata": {},
   "outputs": [],
   "source": [
    "import sys\n",
    "sys.path.insert(0, '/home/workspace/mm_analysis')\n",
    "sys.path.insert(0, '/home/workspace/')\n",
    "\n",
    "from py_util import *\n",
    "from utilities import *\n",
    "\n",
    "hdir = '/home/workspace'\n",
    "wdir = hdir + \"/mm_analysis/EXP-01244\"\n",
    "pltdir = wdir + \"/plots/\"\n",
    "objdir = wdir + \"/objects/\"\n",
    "degdir = wdir + \"/deg_list/\"\n",
    "\n",
    "adata = "
   ]
  },
  {
   "cell_type": "code",
   "execution_count": null,
   "id": "850dcce8-fdf0-4970-ba89-2d98ed4eaeec",
   "metadata": {},
   "outputs": [],
   "source": []
  }
 ],
 "metadata": {
  "kernelspec": {
   "display_name": "Python (mm_py_env)",
   "language": "python",
   "name": "tissdiss_py_env"
  },
  "language_info": {
   "codemirror_mode": {
    "name": "ipython",
    "version": 3
   },
   "file_extension": ".py",
   "mimetype": "text/x-python",
   "name": "python",
   "nbconvert_exporter": "python",
   "pygments_lexer": "ipython3",
   "version": "3.9.21"
  }
 },
 "nbformat": 4,
 "nbformat_minor": 5
}
