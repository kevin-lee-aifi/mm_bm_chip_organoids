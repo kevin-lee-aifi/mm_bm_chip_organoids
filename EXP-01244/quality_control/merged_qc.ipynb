{
 "cells": [
  {
   "cell_type": "code",
   "execution_count": null,
   "id": "6bf26218-5480-480f-b6a4-a4360ea7e336",
   "metadata": {},
   "outputs": [],
   "source": [
    "from scipy.stats import median_abs_deviation\n",
    "\n",
    "import sys\n",
    "sys.path.insert(0, '/home/workspace/mm_analysis')\n",
    "sys.path.insert(0, '/home/workspace/')\n",
    "\n",
    "from py_util import *\n",
    "from utilities import *\n",
    "\n",
    "hdir = '/home/workspace'\n",
    "wdir = hdir + \"/mm_analysis/EXP-01244\"\n",
    "objdir = wdir + \"/quality_control/objects/\"\n",
    "\n",
    "bm_adata = sc.read_h5ad(objdir + \"bm_qc_adata.h5ad\")\n",
    "msc_adata = sc.read_h5ad(objdir + \"msc_qc_adata.h5ad\")\n",
    "week2_adata = sc.read_h5ad(objdir + \"week2_qc_adata.h5ad\")\n",
    "week3_adata = sc.read_h5ad(objdir + \"week3_qc_adata.h5ad\")\n",
    "week4_adata = sc.read_h5ad(objdir + \"week4_qc_adata.h5ad\")"
   ]
  },
  {
   "cell_type": "code",
   "execution_count": null,
   "id": "4208ed22-80bc-47cb-8179-384b4ce341d4",
   "metadata": {},
   "outputs": [],
   "source": []
  }
 ],
 "metadata": {
  "kernelspec": {
   "display_name": "Python (mm_py_env)",
   "language": "python",
   "name": "tissdiss_py_env"
  },
  "language_info": {
   "codemirror_mode": {
    "name": "ipython",
    "version": 3
   },
   "file_extension": ".py",
   "mimetype": "text/x-python",
   "name": "python",
   "nbconvert_exporter": "python",
   "pygments_lexer": "ipython3",
   "version": "3.9.21"
  }
 },
 "nbformat": 4,
 "nbformat_minor": 5
}
