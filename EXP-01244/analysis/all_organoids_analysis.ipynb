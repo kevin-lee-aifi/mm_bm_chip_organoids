{
 "cells": [
  {
   "cell_type": "code",
   "execution_count": 1,
   "id": "27fcfbc8-9895-4c04-918b-20374dc96ef7",
   "metadata": {},
   "outputs": [],
   "source": [
    "from scipy.stats import median_abs_deviation\n",
    "\n",
    "import sys\n",
    "sys.path.insert(0, '/home/workspace/mm_analysis')\n",
    "sys.path.insert(0, '/home/workspace/')\n",
    "\n",
    "from py_util import *\n",
    "from utilities import *\n",
    "\n",
    "hdir = '/home/workspace'\n",
    "wdir = hdir + \"/mm_analysis/EXP-01244\"\n",
    "objdir = wdir + \"/processing/objects/\"\n",
    "degdir = wdir + \"/deg_list/\"\n",
    "\n",
    "# adata = sc.read_h5ad(objdir + \"downsampled_processed_all_organoids_adata.h5ad\")         # Downsampled\n",
    "adata = sc.read_h5ad(objdir + \"not_downsampled_processed_all_organoids_adata.h5ad\")     # Not downsampled"
   ]
  },
  {
   "cell_type": "markdown",
   "id": "93346f67-7427-4a42-961b-b7f584998f40",
   "metadata": {
    "jp-MarkdownHeadingCollapsed": true
   },
   "source": [
    "# Sample Type UMAP"
   ]
  },
  {
   "cell_type": "code",
   "execution_count": null,
   "id": "43f9b7bc-7002-4b56-ab02-7bcdaec4944f",
   "metadata": {},
   "outputs": [],
   "source": [
    "sc.pl.umap(\n",
    "    adata,\n",
    "    color='sample_type'\n",
    ")"
   ]
  },
  {
   "cell_type": "markdown",
   "id": "5d782a30-e7c6-4820-9fcf-e6620158e81e",
   "metadata": {},
   "source": [
    "# DEG's"
   ]
  },
  {
   "cell_type": "markdown",
   "id": "d7b7f6bc-e003-4f2f-b1b9-3ed068f3c88c",
   "metadata": {
    "jp-MarkdownHeadingCollapsed": true
   },
   "source": [
    "## Downsampled"
   ]
  },
  {
   "cell_type": "code",
   "execution_count": null,
   "id": "e57a1891-d8c9-46f3-9ee5-69b71aad84c9",
   "metadata": {},
   "outputs": [],
   "source": [
    "ranking = adata.uns['rank_genes_groups']\n",
    "gene_names = ranking['names']\n",
    "gene_scores = ranking['scores']\n",
    "gene_pvals_adj = ranking['pvals_adj']\n",
    "clusters = gene_names.dtype.names\n",
    "\n",
    "de_genes = []\n",
    "for cluster in clusters:\n",
    "    names = gene_names[cluster]\n",
    "    scores = gene_scores[cluster]\n",
    "    pvals_adj = gene_pvals_adj[cluster]\n",
    "    for name, score, pval_adj in zip(names, scores, pvals_adj):\n",
    "        if pval_adj < 0.05:\n",
    "            de_genes.append((cluster, name, score, pval_adj))\n",
    "\n",
    "df_de_genes = pd.DataFrame(de_genes, columns=['Cluster', 'Gene', 'Score', 'Adjusted p-value'])\n",
    "df_de_genes.to_csv(degdir + f'downsampled_all_organoids_DEGs.csv', index=False)"
   ]
  },
  {
   "cell_type": "code",
   "execution_count": null,
   "id": "e1af884c-26b7-4b41-80db-0533d6b9658a",
   "metadata": {},
   "outputs": [],
   "source": [
    "ranking = adata.uns['rank_genes_groups']\n",
    "gene_names = ranking['names']\n",
    "gene_z_scores = ranking['scores']\n",
    "gene_logfold = ranking['logfoldchanges']\n",
    "gene_pvals_adj = ranking['pvals_adj']\n",
    "clusters = gene_names.dtype.names\n",
    "\n",
    "df_de_genes = pd.DataFrame()\n",
    "\n",
    "for cluster in clusters:\n",
    "    names = gene_names[cluster]\n",
    "    logfold = gene_names[cluster]\n",
    "    z_scores = gene_z_scores[cluster]\n",
    "    pvals_adj = gene_pvals_adj[cluster]\n",
    "\n",
    "    cluster_df = pd.DataFrame({\n",
    "        f'C{cluster}_names': names[:20],\n",
    "        f'C{cluster}_logfold': logfold[:20],\n",
    "        f'C{cluster}_pvals_adj': pvals_adj[:20],\n",
    "        f'C{cluster}_z_score': z_scores[:20]\n",
    "    })\n",
    "\n",
    "    if df_de_genes.empty:\n",
    "        df_de_genes = cluster_df\n",
    "    else:\n",
    "        df_de_genes = pd.merge(df_de_genes, cluster_df, left_index=True, right_index=True, how='outer')\n",
    "\n",
    "df_de_genes.to_csv(degdir + 'adjusted_downsampled_all_organoids_DEGs.csv', index=False)"
   ]
  },
  {
   "cell_type": "markdown",
   "id": "33e3ffec-b56b-49e8-a092-ba0674fe6471",
   "metadata": {
    "jp-MarkdownHeadingCollapsed": true
   },
   "source": [
    "## Not Downsampled"
   ]
  },
  {
   "cell_type": "code",
   "execution_count": null,
   "id": "2d46a018-5ee5-42f2-b6b8-bbe7306012bc",
   "metadata": {},
   "outputs": [],
   "source": [
    "ranking = adata.uns['rank_genes_groups']\n",
    "gene_names = ranking['names']\n",
    "gene_scores = ranking['scores']\n",
    "gene_pvals_adj = ranking['pvals_adj']\n",
    "clusters = gene_names.dtype.names\n",
    "\n",
    "de_genes = []\n",
    "for cluster in clusters:\n",
    "    names = gene_names[cluster]\n",
    "    scores = gene_scores[cluster]\n",
    "    pvals_adj = gene_pvals_adj[cluster]\n",
    "    for name, score, pval_adj in zip(names, scores, pvals_adj):\n",
    "        if pval_adj < 0.05:\n",
    "            de_genes.append((cluster, name, score, pval_adj))\n",
    "\n",
    "df_de_genes = pd.DataFrame(de_genes, columns=['Cluster', 'Gene', 'Score', 'Adjusted p-value'])\n",
    "df_de_genes.to_csv(degdir + f'not_downsampled_all_organoids_DEGs.csv', index=False)"
   ]
  },
  {
   "cell_type": "code",
   "execution_count": 2,
   "id": "42662015-4554-487e-a917-fb6b092b804b",
   "metadata": {},
   "outputs": [],
   "source": [
    "ranking = adata.uns['rank_genes_groups']\n",
    "gene_names = ranking['names']\n",
    "gene_z_scores = ranking['scores']\n",
    "gene_logfold = ranking['logfoldchanges']\n",
    "gene_pvals_adj = ranking['pvals_adj']\n",
    "clusters = gene_names.dtype.names\n",
    "\n",
    "df_de_genes = pd.DataFrame()\n",
    "\n",
    "for cluster in clusters:\n",
    "    names = gene_names[cluster]\n",
    "    logfold = gene_names[cluster]\n",
    "    z_scores = gene_z_scores[cluster]\n",
    "    pvals_adj = gene_pvals_adj[cluster]\n",
    "\n",
    "    cluster_df = pd.DataFrame({\n",
    "        f'C{cluster}_names': names[:20],\n",
    "        f'C{cluster}_logfold': logfold[:20],\n",
    "        f'C{cluster}_pvals_adj': pvals_adj[:20],\n",
    "        f'C{cluster}_z_score': z_scores[:20]\n",
    "    })\n",
    "\n",
    "    if df_de_genes.empty:\n",
    "        df_de_genes = cluster_df\n",
    "    else:\n",
    "        df_de_genes = pd.merge(df_de_genes, cluster_df, left_index=True, right_index=True, how='outer')\n",
    "\n",
    "df_de_genes.to_csv(degdir + 'adjusted_not_downsampled_all_organoids_DEGs.csv', index=False)"
   ]
  },
  {
   "cell_type": "markdown",
   "id": "cfdea6eb-61fb-48c1-9d1f-b77b7a9e0dfa",
   "metadata": {},
   "source": [
    "# PAGA trajectory"
   ]
  },
  {
   "cell_type": "code",
   "execution_count": null,
   "id": "c2bccfe8-0718-478c-92e4-bd72401f3e17",
   "metadata": {},
   "outputs": [],
   "source": [
    "pos = pd.DataFrame(adata.obsm[\"X_umap\"], index=adata.obs_names)\n",
    "pos[\"group\"] = adata.obs[adata.uns[\"paga\"][\"groups\"]]\n",
    "pos = pos.groupby(\"group\", observed=True).mean()\n",
    "\n",
    "ax = sc.pl.umap(\n",
    "    adata,\n",
    "    show=False,\n",
    "    title='All Organoids PAGA Trajectory'\n",
    ")\n",
    "\n",
    "sc.pl.paga(\n",
    "    adata,\n",
    "    color='leiden_1_1',\n",
    "    threshold=0.1,\n",
    "    node_size_scale=1,\n",
    "    edge_width_scale=0.7,\n",
    "    pos=pos.values,\n",
    "    random_state=0,\n",
    "    ax=ax\n",
    ")"
   ]
  }
 ],
 "metadata": {
  "kernelspec": {
   "display_name": "Python (mm_py_env)",
   "language": "python",
   "name": "tissdiss_py_env"
  },
  "language_info": {
   "codemirror_mode": {
    "name": "ipython",
    "version": 3
   },
   "file_extension": ".py",
   "mimetype": "text/x-python",
   "name": "python",
   "nbconvert_exporter": "python",
   "pygments_lexer": "ipython3",
   "version": "3.9.21"
  }
 },
 "nbformat": 4,
 "nbformat_minor": 5
}
