{
 "cells": [
  {
   "cell_type": "code",
   "execution_count": null,
   "id": "5df1d9bc-9d0b-4553-8ba5-b1106c38a889",
   "metadata": {},
   "outputs": [],
   "source": [
    "from scipy.stats import median_abs_deviation\n",
    "\n",
    "import sys\n",
    "sys.path.insert(0, '/home/workspace/mm_analysis')\n",
    "sys.path.insert(0, '/home/workspace/')\n",
    "\n",
    "from py_util import *\n",
    "from utilities import *\n",
    "\n",
    "hdir = '/home/workspace'\n",
    "wdir = hdir + \"/mm_analysis/EXP-01244\"\n",
    "objdir = wdir + \"/quality_control/qc_objects/\"\n",
    "\n",
    "adata = sc.read_h5ad(objdir + \"bm_qc_adata.h5ad\")"
   ]
  }
 ],
 "metadata": {
  "kernelspec": {
   "display_name": "Python (mm_py_env)",
   "language": "python",
   "name": "tissdiss_py_env"
  },
  "language_info": {
   "codemirror_mode": {
    "name": "ipython",
    "version": 3
   },
   "file_extension": ".py",
   "mimetype": "text/x-python",
   "name": "python",
   "nbconvert_exporter": "python",
   "pygments_lexer": "ipython3",
   "version": "3.9.21"
  }
 },
 "nbformat": 4,
 "nbformat_minor": 5
}
