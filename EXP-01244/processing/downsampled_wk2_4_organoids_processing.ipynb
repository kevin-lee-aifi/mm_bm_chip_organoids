{
 "cells": [
  {
   "cell_type": "code",
   "execution_count": 2,
   "id": "27fcfbc8-9895-4c04-918b-20374dc96ef7",
   "metadata": {},
   "outputs": [],
   "source": [
    "from scipy.stats import median_abs_deviation\n",
    "\n",
    "import sys\n",
    "sys.path.insert(0, '/home/workspace/mm_analysis')\n",
    "sys.path.insert(0, '/home/workspace/')\n",
    "\n",
    "from py_util import *\n",
    "from utilities import *\n",
    "\n",
    "hdir = '/home/workspace'\n",
    "wdir = hdir + \"/mm_analysis/EXP-01244\"\n",
    "objdir1 = wdir + \"/object_building/objects/\"\n",
    "objdir2 = wdir + \"/processing/objects/\"\n",
    "degdir = wdir + \"/deg_list/\"\n",
    "\n",
    "raw_adata = sc.read_h5ad(objdir1 + \"downsampled_wk2_4_organoids_adata.h5ad\")\n",
    "# adata = sc.read_h5ad(objdir2 + \"downsampled_processed_wk2_4_organoids_adata.h5ad\")"
   ]
  },
  {
   "cell_type": "code",
   "execution_count": 14,
   "id": "5414ea5f-a032-4157-8027-b1ac8015f641",
   "metadata": {},
   "outputs": [
    {
     "name": "stderr",
     "output_type": "stream",
     "text": [
      "2025-02-18 19:03:01,715 - harmonypy - INFO - Computing initial centroids with sklearn.KMeans...\n",
      "Computing initial centroids with sklearn.KMeans...\n",
      "2025-02-18 19:03:04,773 - harmonypy - INFO - sklearn.KMeans initialization complete.\n",
      "sklearn.KMeans initialization complete.\n",
      "2025-02-18 19:03:04,861 - harmonypy - INFO - Iteration 1 of 10\n",
      "Iteration 1 of 10\n",
      "2025-02-18 19:03:08,039 - harmonypy - INFO - Iteration 2 of 10\n",
      "Iteration 2 of 10\n",
      "2025-02-18 19:03:11,095 - harmonypy - INFO - Iteration 3 of 10\n",
      "Iteration 3 of 10\n",
      "2025-02-18 19:03:14,156 - harmonypy - INFO - Iteration 4 of 10\n",
      "Iteration 4 of 10\n",
      "2025-02-18 19:03:17,171 - harmonypy - INFO - Iteration 5 of 10\n",
      "Iteration 5 of 10\n",
      "2025-02-18 19:03:20,211 - harmonypy - INFO - Iteration 6 of 10\n",
      "Iteration 6 of 10\n",
      "2025-02-18 19:03:23,343 - harmonypy - INFO - Converged after 6 iterations\n",
      "Converged after 6 iterations\n"
     ]
    }
   ],
   "source": [
    "samples = list(raw_adata.obs['sample_type'].unique())\n",
    "\n",
    "filtered_adatas = {}\n",
    "\n",
    "for sample in samples:\n",
    "    mask = raw_adata.obs['sample_type'] == sample\n",
    "    sample_adata = raw_adata[mask].copy()\n",
    "    \n",
    "    sample_adata.var[\"mt\"] = sample_adata.var_names.str.startswith(\"MT-\")                 # mitochondrial genes\n",
    "    sample_adata.var[\"ribo\"] = sample_adata.var_names.str.startswith((\"RPS\", \"RPL\"))      # ribosomal genes\n",
    "    sample_adata.var[\"hb\"] = sample_adata.var_names.str.contains((\"^HB[^(P)]\"))           # hemoglobin genes\n",
    "    \n",
    "    sc.pp.calculate_qc_metrics(sample_adata, qc_vars=[\"mt\", \"ribo\", \"hb\"], inplace=True, percent_top=[20], log1p=True)\n",
    "    \n",
    "    sample_adata.obs[\"mt_outlier\"] = sample_adata.obs['pct_counts_mt'] >= 10\n",
    "\n",
    "    # Run Scrublet for doublet detection\n",
    "    scrub = scrublet.Scrublet(sample_adata.X)\n",
    "    doublet_scores, predicted_doublets = scrub.scrub_doublets(verbose=False)\n",
    "    \n",
    "    # Add Scrublet results to cell metadata\n",
    "    sample_adata.obs['doublet_score'] = doublet_scores\n",
    "    sample_adata.obs['predicted_doublet'] = predicted_doublets\n",
    "\n",
    "    # Filtering outliers\n",
    "    sample_adata = sample_adata[(sample_adata.obs[\"predicted_doublet\"] == False) & (sample_adata.obs[\"mt_outlier\"] == False)].copy()\n",
    "\n",
    "    filtered_adatas[sample_adata.obs['sample_type'].unique()[0]] = sample_adata.copy()\n",
    "\n",
    "adata = ad.concat(filtered_adatas.values(), join='outer', merge='same')\n",
    "\n",
    "# Store log1p transformed normalized counts\n",
    "sc.pp.normalize_total(adata)\n",
    "sc.pp.log1p(adata)\n",
    "\n",
    "# Saving raw adata\n",
    "adata.raw = adata\n",
    "\n",
    "# Standard processing workflow\n",
    "sc.pp.highly_variable_genes(adata)\n",
    "sc.pp.scale(adata)\n",
    "sc.pp.pca(adata)\n",
    "\n",
    "# Harmonizing data based on sample type\n",
    "X = adata.obsm['X_pca'].astype(np.float64)\n",
    "harmony_out = hm.run_harmony(X, adata.obs, 'sample_type')\n",
    "adata.obsm['X_pca'] = harmony_out.Z_corr.T\n",
    "\n",
    "sc.pp.neighbors(adata)\n",
    "sc.tl.umap(adata)\n",
    "\n",
    "# Computing a range of leiden resolutions from 0-2 in increments of 0.1\n",
    "res_range = np.round(np.arange(0, 2.2, 0.1), 1)\n",
    "for res in res_range:\n",
    "    sc.tl.leiden(\n",
    "        adata,\n",
    "        flavor=\"igraph\",\n",
    "        key_added=f\"leiden_{str(res).replace('.', '_')}\",\n",
    "        n_iterations=2,\n",
    "        resolution=res\n",
    "    )\n",
    "\n",
    "adata.uns['leiden_ranges'] = [f'leiden_{i:.1f}'.replace('.', '_') for i in np.arange(0, 2.1, 0.1)]\n",
    "\n",
    "leiden_res = 'leiden_0_8'\n",
    "\n",
    "adata.obs['leiden'] = adata.obs[leiden_res].copy()\n",
    "adata.uns['leiden'] = adata.uns[leiden_res].copy()\n",
    "\n",
    "sc.tl.paga(adata, groups='leiden')\n",
    "sc.tl.rank_genes_groups(adata, 'leiden', method='wilcoxon')\n",
    "\n",
    "adata.write(objdir2 + 'downsampled_processed_wk2_4_organoids_adata.h5ad', compression='gzip')"
   ]
  },
  {
   "cell_type": "markdown",
   "id": "93346f67-7427-4a42-961b-b7f584998f40",
   "metadata": {},
   "source": [
    "# Sample Type UMAP"
   ]
  },
  {
   "cell_type": "code",
   "execution_count": null,
   "id": "43f9b7bc-7002-4b56-ab02-7bcdaec4944f",
   "metadata": {},
   "outputs": [],
   "source": [
    "sc.pl.umap(\n",
    "    adata,\n",
    "    color='sample_type'\n",
    ")"
   ]
  },
  {
   "cell_type": "markdown",
   "id": "3595b160-0c65-4f82-a15f-3f5bd6edfebe",
   "metadata": {},
   "source": [
    "# Leiden UMAPs"
   ]
  },
  {
   "cell_type": "code",
   "execution_count": null,
   "id": "05fd45f9-22de-4273-867b-ed4e0730c15f",
   "metadata": {},
   "outputs": [],
   "source": [
    "sc.pl.umap(\n",
    "    adata,\n",
    "    color=adata.uns['leiden_ranges'],\n",
    "    legend_loc='on data'\n",
    ")"
   ]
  }
 ],
 "metadata": {
  "kernelspec": {
   "display_name": "Python (mm_py_env)",
   "language": "python",
   "name": "tissdiss_py_env"
  },
  "language_info": {
   "codemirror_mode": {
    "name": "ipython",
    "version": 3
   },
   "file_extension": ".py",
   "mimetype": "text/x-python",
   "name": "python",
   "nbconvert_exporter": "python",
   "pygments_lexer": "ipython3",
   "version": "3.9.21"
  }
 },
 "nbformat": 4,
 "nbformat_minor": 5
}
