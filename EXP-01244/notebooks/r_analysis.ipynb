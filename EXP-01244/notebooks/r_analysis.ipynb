{
 "cells": [
  {
   "cell_type": "markdown",
   "id": "53c6ce98-0889-462d-911e-beeb7e9189b4",
   "metadata": {},
   "source": [
    "# Setup\n",
    "\n",
    "## Create/Update envs\n",
    "\n",
    "```bash\n",
    "source TissDiss/tissdiss_env.sh\n",
    "```\n",
    "## Activate renv\n",
    "\n",
    "```bash\n",
    "conda activate \"/home/jupyter/TissDiss/tissdiss_r_env\"\n",
    "```"
   ]
  },
  {
   "cell_type": "code",
   "execution_count": 1,
   "id": "6dd5b774-fa3d-4ee5-9eb9-962c371c05b6",
   "metadata": {},
   "outputs": [],
   "source": [
    "hd <- \"/home/jupyter\"\n",
    "wd <- file.path(hd, \"TissDiss/EXP-01244\")\n",
    "sd <- file.path(hd, \"TissDiss/EXP-01244/EXP-01244_serial_obj\")\n",
    "\n",
    "setwd(wd)\n",
    "\n",
    "suppressMessages(source(file.path(hd, \"TissDiss/tissdiss_r_util.r\")))"
   ]
  },
  {
   "cell_type": "markdown",
   "id": "bb2bf280-d289-4bae-9202-919be6628638",
   "metadata": {},
   "source": [
    "# Ingest cell/gene matrix into Seurat"
   ]
  },
  {
   "cell_type": "code",
   "execution_count": null,
   "id": "e1db29b0-c14a-49fe-bcb1-a57f834b0f52",
   "metadata": {
    "collapsed": true,
    "jupyter": {
     "outputs_hidden": true
    }
   },
   "outputs": [
    {
     "name": "stderr",
     "output_type": "stream",
     "text": [
      "`vst.flavor` is set to 'v2' but could not find glmGamPoi installed.\n",
      "Please install the glmGamPoi package for much faster estimation.\n",
      "--------------------------------------------\n",
      "install.packages('BiocManager')\n",
      "BiocManager::install('glmGamPoi')\n",
      "--------------------------------------------\n",
      "Falling back to native (slower) implementation.\n",
      "\n",
      "\n"
     ]
    }
   ],
   "source": [
    "cr_out <- file.path(hd, \"TissDiss/EXP-01244/EXP-01244_cr_outs\")\n",
    "\n",
    "so <- process_h5(cr_out)\n",
    "\n",
    "qsave(so, file.path(sd, \"EXP-01244_so.qs\"))"
   ]
  },
  {
   "cell_type": "code",
   "execution_count": null,
   "id": "cc6b1ae4-c3c1-4774-8cc9-0f925ecd09a4",
   "metadata": {},
   "outputs": [],
   "source": [
    "cr_out <- file.path(hd, \"TissDiss/EXP-01244/EXP-01244_cr_outs\")\n",
    "\n",
    "files <- list.files(\n",
    "    path = file.path(cr_out),\n",
    "    pattern = \"sample_filtered_feature_bc_matrix.h5$\",\n",
    "    recursive = TRUE,\n",
    "    full.names = TRUE\n",
    ")\n",
    "\n",
    "name <- unlist(strsplit(files[[1]], '/'))[[9]]\n",
    "mtx <- Read10X_h5(files[[1]])\n",
    "so <- CreateSeuratObject(counts = mtx, assay = \"RNA\", min.cells = 1)\n",
    "so@meta.data[['sample_replicate']] <- name\n",
    "so@meta.data[['sample']] <- unlist(strsplit(name, '_'))[1]\n",
    "\n",
    "str(so)\n",
    "\n",
    "# so_ls <- lapply(seq_along(files[0:1]), function(i) {\n",
    "#     name <- unlist(strsplit(files[[i]], '/'))[[10]]\n",
    "#     mtx <- Read10X_h5(files[[i]])\n",
    "#     so <- CreateSeuratObject(counts = mtx, assay = \"RNA\", min.cells = 1)\n",
    "#     so@meta.data[['sample_replicate']] <- name\n",
    "#     so@meta.data[['sample']] <- unlist(strsplit(name, '_'))[1]\n",
    "# })"
   ]
  }
 ],
 "metadata": {
  "kernelspec": {
   "display_name": "R [conda env:tissdiss_r_env]",
   "language": "R",
   "name": "conda-env-tissdiss_r_env-r"
  },
  "language_info": {
   "codemirror_mode": "r",
   "file_extension": ".r",
   "mimetype": "text/x-r-source",
   "name": "R",
   "pygments_lexer": "r",
   "version": "4.3.3"
  }
 },
 "nbformat": 4,
 "nbformat_minor": 5
}
