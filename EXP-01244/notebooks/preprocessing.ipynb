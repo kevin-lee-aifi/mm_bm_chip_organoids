{
 "cells": [
  {
   "cell_type": "code",
   "execution_count": null,
   "id": "44a8ebb8-52a1-4505-b6a9-7e4d2fc71750",
   "metadata": {},
   "outputs": [],
   "source": [
    "import sys\n",
    "sys.path.insert(0, '/home/workspace/mm_analysis')\n",
    "\n",
    "from py_util import *\n",
    "\n",
    "hdir = '/home/workspace/'\n",
    "wdir = hdir + \"/mm_analysis/EXP-01244\"\n",
    "pltdir = wdir + \"/plots/\"\n",
    "srldir = wdir + \"/objects/\"\n",
    "\n",
    "raw_adata = sc.read_h5ad(srldir + 'raw_adata.h5ad')"
   ]
  },
  {
   "cell_type": "code",
   "execution_count": null,
   "id": "a4899623-b8a0-4210-8aaa-6655f25a0bdd",
   "metadata": {},
   "outputs": [],
   "source": [
    "def ingest_mplex_gex_h5_list(cr_outs_path):\n",
    "\n",
    "    # Dictionary mapping user-friendly sample names to their corresponding IDs\n",
    "    sample_dict = {\n",
    "       'week2': \"OR07965-01\",     # Maps time point labels to sample IDs\n",
    "       'week3': \"OR07965-02\", \n",
    "       'week4': \"OR00001\",\n",
    "       'bm': \"BMC07965-007\",      # Bone marrow sample\n",
    "       'msc': \"CELL00911\"         # Mesenchymal stem cell sample\n",
    "    }\n",
    "    \n",
    "    # Create reverse mapping from sample IDs to their user-friendly names\n",
    "    id_to_sample = {v: k for k, v in sample_dict.items()}\n",
    "    \n",
    "    # Find all filtered_feature_bc_matrix.h5 files in the directory structure\n",
    "    h5_paths = [os.path.join(root, 'sample_filtered_feature_bc_matrix.h5') \n",
    "               for root, _, files in os.walk(cr_outs_path) \n",
    "               if 'sample_filtered_feature_bc_matrix.h5' in files]\n",
    "    \n",
    "    # Dictionary to store AnnData objects for each sample\n",
    "    adatas = {}\n",
    "    \n",
    "    # Process each H5 file\n",
    "    for path in h5_paths:\n",
    "        # Extract sample name from path (e.g., 'BMC07965-007_3')\n",
    "        name = path.split('per_sample_outs/')[1].split('/')[0]\n",
    "        \n",
    "        # Read the H5 file and create AnnData object\n",
    "        adata = sc.read_10x_h5(path)\n",
    "        adata.var_names_make_unique()\n",
    "        adatas[name] = adata\n",
    "        \n",
    "        # Run Scrublet for doublet detection\n",
    "        scrub = scrublet.Scrublet(adata.X)\n",
    "        doublet_scores, predicted_doublets = scrub.scrub_doublets(verbose=False)\n",
    "\n",
    "        # Add Scrublet results to cell metadata\n",
    "        adata.obs['Doublet_Score'] = doublet_scores\n",
    "        adata.obs['Predicted_Doublet'] = predicted_doublets\n",
    "\n",
    "    # Combine all samples into one AnnData object\n",
    "    concat = ad.concat(adatas, label='sample', join='outer', merge='same')\n",
    "\n",
    "    # Add metadata column for batched replicates\n",
    "    concat.obs['base_sample'] = concat.obs['sample'].str.replace(r'_\\d+$', '', regex=True)\n",
    "\n",
    "    # Add sample names (week2, week3, etc.)\n",
    "    concat.obs['sample_type'] = concat.obs['base_sample'].replace(id_to_sample)\n",
    "\n",
    "    \n",
    "    \n",
    "    return concat"
   ]
  }
 ],
 "metadata": {
  "kernelspec": {
   "display_name": "Python (tissdiss_py_env)",
   "language": "python",
   "name": "tissdiss_py_env"
  },
  "language_info": {
   "codemirror_mode": {
    "name": "ipython",
    "version": 3
   },
   "file_extension": ".py",
   "mimetype": "text/x-python",
   "name": "python",
   "nbconvert_exporter": "python",
   "pygments_lexer": "ipython3",
   "version": "3.9.21"
  }
 },
 "nbformat": 4,
 "nbformat_minor": 5
}
