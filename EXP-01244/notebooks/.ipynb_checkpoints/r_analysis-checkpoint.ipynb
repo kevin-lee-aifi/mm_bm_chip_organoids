{
 "cells": [
  {
   "cell_type": "markdown",
   "id": "53c6ce98-0889-462d-911e-beeb7e9189b4",
   "metadata": {},
   "source": [
    "# Setup\n",
    "\n",
    "## Create/Update envs\n",
    "\n",
    "```bash\n",
    "source TissDiss/tissdiss_env.sh\n",
    "```\n",
    "## Activate renv\n",
    "\n",
    "```bash\n",
    "conda activate \"/home/jupyter/TissDiss/tissdiss_r_env\"\n",
    "```"
   ]
  },
  {
   "cell_type": "code",
   "execution_count": 3,
   "id": "6dd5b774-fa3d-4ee5-9eb9-962c371c05b6",
   "metadata": {},
   "outputs": [],
   "source": [
    "hd <- \"/home/jupyter\"\n",
    "wd <- file.path(hd, \"TissDiss/EXP-01244\")\n",
    "\n",
    "setwd(wd)\n",
    "\n",
    "suppressMessages(source(file.path(hd, \"TissDiss/tissdiss_r_util.r\")))"
   ]
  },
  {
   "cell_type": "markdown",
   "id": "bb2bf280-d289-4bae-9202-919be6628638",
   "metadata": {},
   "source": [
    "# Ingest cell/gene matrix into Seurat"
   ]
  },
  {
   "cell_type": "code",
   "execution_count": 4,
   "id": "278e222a-0b60-4e40-8b32-63af8a21aee6",
   "metadata": {},
   "outputs": [],
   "source": [
    "process_h5 <- function(cr_out) {\n",
    "    files <- list.files(\n",
    "        path = file.path(cr_out),\n",
    "        pattern = \"sample_filtered_feature_bc_matrix.h5$\",\n",
    "        recursive = TRUE,\n",
    "        full.names = TRUE\n",
    "    )\n",
    "\n",
    "    so_ls <- lapply(seq_along(files), function(i) {\n",
    "        name <- unlist(strsplit(files[[i]], '/'))[[9]]\n",
    "        mtx <- Read10X_h5(files[[i]])\n",
    "        so <- CreateSeuratObject(counts = mtx, assay = \"RNA\", min.cells = 1)\n",
    "        so@meta.data[['replicate']] <- name\n",
    "        so@meta.data[['orig.ident']] <- unlist(strsplit(name, '_'))[1]\n",
    "        return(so)\n",
    "    })\n",
    "\n",
    "    so <- merge(so_ls[[1]], y = so_ls[2:length(so_ls)])\n",
    "    so <- JoinLayers(so)\n",
    "\n",
    "    print(str(so))\n",
    "\n",
    "    so[[\"percent.mt\"]] <- PercentageFeatureSet(so, pattern = \"^MT-\")\n",
    "    so[[\"percent.ig\"]] <- PercentageFeatureSet(so, pattern = \"^IG-\")\n",
    "    \n",
    "    so <- SCTransform(so, assay = \"RNA\", verbose = FALSE)\n",
    "    so <- RunPCA(so, verbose = FALSE)\n",
    "    so <- FindNeighbors(so, dims = 1:20, verbose = FALSE)\n",
    "    so <- FindClusters(so, resolution = 1.0)\n",
    "    so <- RunUMAP(so, dims = 1:20)\n",
    "\n",
    "    return(so)\n",
    "}"
   ]
  },
  {
   "cell_type": "code",
   "execution_count": null,
   "id": "e1db29b0-c14a-49fe-bcb1-a57f834b0f52",
   "metadata": {},
   "outputs": [
    {
     "name": "stdout",
     "output_type": "stream",
     "text": [
      "Formal class 'Seurat' [package \"SeuratObject\"] with 13 slots\n",
      "  ..@ assays      :List of 1\n",
      "  .. ..$ RNA:Formal class 'Assay5' [package \"SeuratObject\"] with 8 slots\n",
      "  .. .. .. ..@ layers    :List of 1\n",
      "  .. .. .. .. ..$ counts:Formal class 'dgCMatrix' [package \"Matrix\"] with 6 slots\n",
      "  .. .. .. .. .. .. ..@ i       : int [1:131361199] 11 50 55 60 84 108 119 122 147 153 ...\n",
      "  .. .. .. .. .. .. ..@ p       : int [1:49436] 0 831 1730 2202 2705 2997 3141 3711 4698 6092 ...\n",
      "  .. .. .. .. .. .. ..@ Dim     : int [1:2] 17595 49435\n",
      "  .. .. .. .. .. .. ..@ Dimnames:List of 2\n",
      "  .. .. .. .. .. .. .. ..$ : NULL\n",
      "  .. .. .. .. .. .. .. ..$ : NULL\n",
      "  .. .. .. .. .. .. ..@ x       : num [1:131361199] 1 1 2 1 1 1 2 1 1 1 ...\n",
      "  .. .. .. .. .. .. ..@ factors : list()\n",
      "  .. .. .. ..@ cells     :Formal class 'LogMap' [package \"SeuratObject\"] with 1 slot\n",
      "  .. .. .. .. .. ..@ .Data: logi [1:49435, 1] TRUE TRUE TRUE TRUE TRUE TRUE ...\n",
      "  .. .. .. .. .. .. ..- attr(*, \"dimnames\")=List of 2\n",
      "  .. .. .. .. .. .. .. ..$ : chr [1:49435] \"AAACGTTCATCTATGCAGCTGTGA-1\" \"AAAGGCTTCCATTAACAGCTGTGA-1\" \"AAAGGTACATGGTCAAAGCTGTGA-1\" \"AAATCCTTCGTTAGGGAGCTGTGA-1\" ...\n",
      "  .. .. .. .. .. .. .. ..$ : chr \"counts\"\n",
      "  .. .. .. .. .. ..$ dim     : int [1:2] 49435 1\n",
      "  .. .. .. .. .. ..$ dimnames:List of 2\n",
      "  .. .. .. .. .. .. ..$ : chr [1:49435] \"AAACGTTCATCTATGCAGCTGTGA-1\" \"AAAGGCTTCCATTAACAGCTGTGA-1\" \"AAAGGTACATGGTCAAAGCTGTGA-1\" \"AAATCCTTCGTTAGGGAGCTGTGA-1\" ...\n",
      "  .. .. .. .. .. .. ..$ : chr \"counts\"\n",
      "  .. .. .. ..@ features  :Formal class 'LogMap' [package \"SeuratObject\"] with 1 slot\n",
      "  .. .. .. .. .. ..@ .Data: logi [1:17595, 1] TRUE TRUE TRUE TRUE TRUE TRUE ...\n",
      "  .. .. .. .. .. .. ..- attr(*, \"dimnames\")=List of 2\n",
      "  .. .. .. .. .. .. .. ..$ : chr [1:17595] \"NOC2L\" \"KLHL17\" \"PLEKHN1\" \"HES4\" ...\n",
      "  .. .. .. .. .. .. .. ..$ : chr \"counts\"\n",
      "  .. .. .. .. .. ..$ dim     : int [1:2] 17595 1\n",
      "  .. .. .. .. .. ..$ dimnames:List of 2\n",
      "  .. .. .. .. .. .. ..$ : chr [1:17595] \"NOC2L\" \"KLHL17\" \"PLEKHN1\" \"HES4\" ...\n",
      "  .. .. .. .. .. .. ..$ : chr \"counts\"\n",
      "  .. .. .. ..@ default   : int 1\n",
      "  .. .. .. ..@ assay.orig: chr(0) \n",
      "  .. .. .. ..@ meta.data :'data.frame':\t17595 obs. of  0 variables\n",
      "  .. .. .. ..@ misc      : list()\n",
      "  .. .. .. ..@ key       : chr \"rna_\"\n",
      "  ..@ meta.data   :'data.frame':\t49435 obs. of  4 variables:\n",
      "  .. ..$ orig.ident  : chr [1:49435] \"BMC07965-007\" \"BMC07965-007\" \"BMC07965-007\" \"BMC07965-007\" ...\n",
      "  .. ..$ nCount_RNA  : num [1:49435] 1042 1179 552 594 1193 ...\n",
      "  .. ..$ nFeature_RNA: int [1:49435] 831 899 472 503 292 144 570 987 1394 780 ...\n",
      "  .. ..$ replicate   : chr [1:49435] \"BMC07965-007_1\" \"BMC07965-007_1\" \"BMC07965-007_1\" \"BMC07965-007_1\" ...\n",
      "  ..@ active.assay: chr \"RNA\"\n",
      "  ..@ active.ident: Factor w/ 1 level \"SeuratProject\": 1 1 1 1 1 1 1 1 1 1 ...\n",
      "  .. ..- attr(*, \"names\")= chr [1:49435] \"AAACGTTCATCTATGCAGCTGTGA-1\" \"AAAGGCTTCCATTAACAGCTGTGA-1\" \"AAAGGTACATGGTCAAAGCTGTGA-1\" \"AAATCCTTCGTTAGGGAGCTGTGA-1\" ...\n",
      "  ..@ graphs      : list()\n",
      "  ..@ neighbors   : list()\n",
      "  ..@ reductions  : list()\n",
      "  ..@ images      : list()\n",
      "  ..@ project.name: chr \"SeuratProject\"\n",
      "  ..@ misc        : list()\n",
      "  ..@ version     :Classes 'package_version', 'numeric_version'  hidden list of 1\n",
      "  .. ..$ : int [1:3] 5 0 2\n",
      "  ..@ commands    : list()\n",
      "  ..@ tools       : list()\n",
      "NULL\n"
     ]
    },
    {
     "name": "stderr",
     "output_type": "stream",
     "text": [
      "`vst.flavor` is set to 'v2' but could not find glmGamPoi installed.\n",
      "Please install the glmGamPoi package for much faster estimation.\n",
      "--------------------------------------------\n",
      "install.packages('BiocManager')\n",
      "BiocManager::install('glmGamPoi')\n",
      "--------------------------------------------\n",
      "Falling back to native (slower) implementation.\n",
      "\n",
      "\n"
     ]
    }
   ],
   "source": [
    "cr_out <- file.path(hd, \"TissDiss/EXP-01244/EXP-01244_cr_outs\")\n",
    "\n",
    "so <- process_h5(cr_out)"
   ]
  },
  {
   "cell_type": "code",
   "execution_count": null,
   "id": "067624b3-216a-484c-98ae-9ad8f0ffeb12",
   "metadata": {},
   "outputs": [],
   "source": [
    "str(so)"
   ]
  },
  {
   "cell_type": "code",
   "execution_count": null,
   "id": "cc6b1ae4-c3c1-4774-8cc9-0f925ecd09a4",
   "metadata": {},
   "outputs": [],
   "source": [
    "cr_out <- file.path(hd, \"TissDiss/EXP-01244/EXP-01244_cr_outs\")\n",
    "\n",
    "files <- list.files(\n",
    "    path = file.path(cr_out),\n",
    "    pattern = \"sample_filtered_feature_bc_matrix.h5$\",\n",
    "    recursive = TRUE,\n",
    "    full.names = TRUE\n",
    ")\n",
    "\n",
    "name <- unlist(strsplit(files[[1]], '/'))[[9]]\n",
    "mtx <- Read10X_h5(files[[1]])\n",
    "so <- CreateSeuratObject(counts = mtx, assay = \"RNA\", min.cells = 1)\n",
    "so@meta.data[['sample_replicate']] <- name\n",
    "so@meta.data[['sample']] <- unlist(strsplit(name, '_'))[1]\n",
    "\n",
    "str(so)\n",
    "\n",
    "# so_ls <- lapply(seq_along(files[0:1]), function(i) {\n",
    "#     name <- unlist(strsplit(files[[i]], '/'))[[10]]\n",
    "#     mtx <- Read10X_h5(files[[i]])\n",
    "#     so <- CreateSeuratObject(counts = mtx, assay = \"RNA\", min.cells = 1)\n",
    "#     so@meta.data[['sample_replicate']] <- name\n",
    "#     so@meta.data[['sample']] <- unlist(strsplit(name, '_'))[1]\n",
    "# })"
   ]
  }
 ],
 "metadata": {
  "kernelspec": {
   "display_name": "R [conda env:tissdiss_r_env]",
   "language": "R",
   "name": "conda-env-tissdiss_r_env-r"
  },
  "language_info": {
   "codemirror_mode": "r",
   "file_extension": ".r",
   "mimetype": "text/x-r-source",
   "name": "R",
   "pygments_lexer": "r",
   "version": "4.3.3"
  }
 },
 "nbformat": 4,
 "nbformat_minor": 5
}
