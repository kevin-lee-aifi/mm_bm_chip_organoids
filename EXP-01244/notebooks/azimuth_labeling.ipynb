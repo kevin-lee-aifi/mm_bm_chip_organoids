{
 "cells": [
  {
   "cell_type": "code",
   "execution_count": 2,
   "id": "44ae3531-7b8d-475e-bf1a-572370dbec1b",
   "metadata": {},
   "outputs": [
    {
     "name": "stderr",
     "output_type": "stream",
     "text": [
      "Warning message:\n",
      "“Your system is mis-configured: ‘/var/db/timezone/localtime’ is not a symlink”\n",
      "Warning message:\n",
      "“‘/var/db/timezone/localtime’ is not identical to any known timezone file”\n",
      "Warning message:\n",
      "“Failed to locate timezone database”\n"
     ]
    },
    {
     "ename": "ERROR",
     "evalue": "Error in library(Seurat, quietly = T): there is no package called ‘Seurat’\n",
     "output_type": "error",
     "traceback": [
      "Error in library(Seurat, quietly = T): there is no package called ‘Seurat’\nTraceback:\n",
      "1. withCallingHandlers(expr, message = function(c) if (inherits(c, \n .     classes)) tryInvokeRestart(\"muffleMessage\"))",
      "2. source(file.path(hd, \"mm_analysis/r_util.r\"))",
      "3. withVisible(eval(ei, envir))",
      "4. eval(ei, envir)",
      "5. eval(ei, envir)",
      "6. library(Seurat, quietly = T)",
      "7. stop(packageNotFoundError(package, lib.loc, sys.call()))"
     ]
    }
   ],
   "source": [
    "hd <- \"/home/workspace\"\n",
    "wd <- file.path(hd, \"mm_analysis/EXP-01244\")\n",
    "sd <- file.path(hd, \"mm_analysis/EXP-01244/objects\")\n",
    "\n",
    "setwd(wd)\n",
    "\n",
    "suppressMessages(source(file.path(hd, \"mm_analysis/r_util.r\")))"
   ]
  },
  {
   "cell_type": "code",
   "execution_count": 3,
   "id": "ac09a9f2-4979-4c56-9c58-969697928830",
   "metadata": {},
   "outputs": [
    {
     "ename": "ERROR",
     "evalue": "Error in library(Seurat, quietly = T): there is no package called ‘Seurat’\n",
     "output_type": "error",
     "traceback": [
      "Error in library(Seurat, quietly = T): there is no package called ‘Seurat’\nTraceback:\n",
      "1. stop(packageNotFoundError(package, lib.loc, sys.call()))"
     ]
    }
   ],
   "source": [
    "library(Seurat, quietly = T)"
   ]
  }
 ],
 "metadata": {
  "kernelspec": {
   "display_name": "R (tissdiss_r_env)",
   "language": "R",
   "name": "tissdiss_r_env"
  },
  "language_info": {
   "codemirror_mode": "r",
   "file_extension": ".r",
   "mimetype": "text/x-r-source",
   "name": "R",
   "pygments_lexer": "r",
   "version": "4.3.3"
  }
 },
 "nbformat": 4,
 "nbformat_minor": 5
}
