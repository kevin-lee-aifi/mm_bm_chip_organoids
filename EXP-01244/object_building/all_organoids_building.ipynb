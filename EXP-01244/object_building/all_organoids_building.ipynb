{
 "cells": [
  {
   "cell_type": "code",
   "execution_count": 4,
   "id": "27fcfbc8-9895-4c04-918b-20374dc96ef7",
   "metadata": {},
   "outputs": [],
   "source": [
    "from scipy.stats import median_abs_deviation\n",
    "\n",
    "import sys\n",
    "sys.path.insert(0, '/home/workspace/mm_analysis')\n",
    "sys.path.insert(0, '/home/workspace/')\n",
    "\n",
    "from py_util import *\n",
    "from utilities import *\n",
    "\n",
    "hdir = '/home/workspace'\n",
    "wdir = hdir + \"/mm_analysis/EXP-01244\"\n",
    "objdir = wdir + \"/object_building/objects/\"\n",
    "\n",
    "adata = sc.read_h5ad(objdir + \"processed_merged_adata.h5ad\")"
   ]
  },
  {
   "cell_type": "markdown",
   "id": "cd639432-6c3c-432e-9b27-5653a14b2a85",
   "metadata": {},
   "source": [
    "# Downsampled"
   ]
  },
  {
   "cell_type": "code",
   "execution_count": 21,
   "id": "0a8cae25-0a38-44f0-b157-c73d13ca84a9",
   "metadata": {},
   "outputs": [
    {
     "name": "stderr",
     "output_type": "stream",
     "text": [
      "... storing 'sample' as categorical\n",
      "... storing 'base_sample' as categorical\n",
      "... storing 'sample_type' as categorical\n",
      "... storing 'name' as categorical\n",
      "... storing 'feature_types' as categorical\n",
      "... storing 'genome' as categorical\n"
     ]
    }
   ],
   "source": [
    "cr_outs_path = os.path.join(hdir, \"mm_analysis/EXP-01244/data/EXP-01244_cr_outs\")\n",
    "\n",
    "# Dictionary mapping user-friendly sample names to their corresponding IDs\n",
    "sample_dict = {\n",
    "   'week2': \"OR07965-01\",    \n",
    "   'week3': \"OR07965-02\", \n",
    "   'week4': \"OR00001\",\n",
    "   'bm': \"BMC07965-007\",\n",
    "   'msc': \"CELL00911\"\n",
    "}\n",
    "\n",
    "name_dict = {\n",
    "   'week2': \"Week 2\",\n",
    "   'week3': \"Week 3\", \n",
    "   'week4': \"Week 4\",\n",
    "   'bm': \"BMMC Start Sample\",\n",
    "   'msc': \"MSC Start Sample\"   \n",
    "}\n",
    "\n",
    "# Create reverse mapping from sample IDs to their user-friendly names\n",
    "id_to_sample = {v: k for k, v in sample_dict.items()}\n",
    "\n",
    "# Find all filtered_feature_bc_matrix.h5 files in the directory structure\n",
    "h5_paths = [os.path.join(root, 'sample_filtered_feature_bc_matrix.h5') \n",
    "           for root, _, files in os.walk(cr_outs_path) \n",
    "           if 'sample_filtered_feature_bc_matrix.h5' in files]\n",
    "\n",
    "starters = [\"BMC07965-007\", \"CELL00911\"]\n",
    "\n",
    "samples = [sample for sample in sample_dict.values() if sample not in starters]\n",
    "\n",
    "final_adatas = {}\n",
    "\n",
    "for sample in samples:\n",
    "\n",
    "    # Get only the sample h5 paths\n",
    "    paths = [path for path in h5_paths if sample in path]\n",
    "\n",
    "    # Dictionary to store AnnData objects for each sample\n",
    "    adatas = {}\n",
    "    \n",
    "    # Process each H5 file\n",
    "    for path in paths:\n",
    "        # Extract sample name from path\n",
    "        name = path.split('per_sample_outs/')[1].split('/')[0]\n",
    "        \n",
    "        # Read the H5 file and create AnnData object\n",
    "        adata = sc.read_10x_h5(path)\n",
    "        adata.var_names_make_unique()\n",
    "    \n",
    "        adata.obs['sample'] = name\n",
    "    \n",
    "        adata.obs['base_sample'] = adata.obs['sample'].str.replace(r'_\\d+$', '', regex=True)      # Add metadata column for batched replicates\n",
    "        adata.obs['sample_type'] = adata.obs['base_sample'].replace(id_to_sample)                 # Add sample names (week2, week3, etc.)\n",
    "        adata.obs['name'] = adata.obs['sample_type'].replace(name_dict)                           # Add pretty names (Week 2, Week 3, etc.)\n",
    "    \n",
    "        adatas[name] = adata.copy()\n",
    "    \n",
    "    adata = ad.concat(adatas.values(), join='outer', merge='same')\n",
    "\n",
    "    final_adatas[adata.obs['sample_type'].unique()[0]] = adata.copy()\n",
    "\n",
    "# Downsample to lowest cell count (Week 3: 1092)\n",
    "ds_adata = {}\n",
    "\n",
    "for name, adata in final_adatas.items():\n",
    "    downsampled = sc.pp.subsample(\n",
    "        adata.copy(),\n",
    "        n_obs = 1092,     \n",
    "        random_state = 0,\n",
    "        copy = True\n",
    "    )\n",
    "\n",
    "    ds_adata[name] = downsampled\n",
    "\n",
    "adata = ad.concat(ds_adata.values(), join = 'outer', merge = 'same')\n",
    "\n",
    "adata.write(objdir + 'downsampled_all_organoids_adata.h5ad', compression='gzip')"
   ]
  }
 ],
 "metadata": {
  "kernelspec": {
   "display_name": "Python (mm_py_env)",
   "language": "python",
   "name": "tissdiss_py_env"
  },
  "language_info": {
   "codemirror_mode": {
    "name": "ipython",
    "version": 3
   },
   "file_extension": ".py",
   "mimetype": "text/x-python",
   "name": "python",
   "nbconvert_exporter": "python",
   "pygments_lexer": "ipython3",
   "version": "3.9.21"
  }
 },
 "nbformat": 4,
 "nbformat_minor": 5
}
