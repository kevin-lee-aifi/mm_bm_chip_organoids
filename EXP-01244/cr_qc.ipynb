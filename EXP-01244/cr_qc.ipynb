{
 "cells": [
  {
   "cell_type": "code",
   "execution_count": 9,
   "id": "a673b661-6ff1-4330-9537-8a2f71e8aa6c",
   "metadata": {},
   "outputs": [],
   "source": [
    "import os\n",
    "import pandas as pd\n",
    "import glob\n",
    "\n",
    "hdir = '/home/workspace'\n",
    "\n",
    "# df = pd.read_csv(hdir + e1440 + 'aggregated_metrics.csv')"
   ]
  },
  {
   "cell_type": "code",
   "execution_count": 10,
   "id": "19acb9de-561c-45a4-bd5a-fd27e5f60b32",
   "metadata": {},
   "outputs": [
    {
     "name": "stdout",
     "output_type": "stream",
     "text": [
      "Aggregated metrics saved to EXP-01244_aggregated_metrics.csv\n"
     ]
    }
   ],
   "source": [
    "def aggregate_metrics(directory_path, name):\n",
    "    csv_files = glob.glob(os.path.join(directory_path, \"*_metrics_summary.csv\"))\n",
    "    output_file = name + \"_aggregated_metrics.csv\"\n",
    "    \n",
    "    aggregated_data = {}\n",
    "    metric_names = []\n",
    "    \n",
    "    for csv_file in csv_files:\n",
    "        sample_id = os.path.basename(csv_file).split('_metrics_summary.csv')[0]\n",
    "        \n",
    "        try:\n",
    "            df = pd.read_csv(csv_file, sep=',')\n",
    "            \n",
    "            if 'Metric Name' not in df.columns or 'Metric Value' not in df.columns:\n",
    "                print(f\"Warning: Required columns not found in {csv_file}. Skipping file.\")\n",
    "                continue\n",
    "            \n",
    "            df = df.head(16)\n",
    "            \n",
    "            if not metric_names:\n",
    "                metric_names = df['Metric Name'].tolist()\n",
    "    \n",
    "            for _, row in df.iterrows():\n",
    "                metric_name = row['Metric Name']\n",
    "                metric_value = row['Metric Value']\n",
    "                \n",
    "                if metric_name not in aggregated_data:\n",
    "                    aggregated_data[metric_name] = {}\n",
    "                \n",
    "                aggregated_data[metric_name][sample_id] = metric_value\n",
    "                \n",
    "        except Exception as e:\n",
    "            print(f\"Error processing {csv_file}: {e}\")\n",
    "    \n",
    "    # Add \"EXP #\" to the beginning of metric_names list\n",
    "    metric_names = [\"EXP #\"] + metric_names\n",
    "    \n",
    "    result_df = pd.DataFrame(index=metric_names)\n",
    "    \n",
    "    for sample_id in sorted(set(sample_id for values in aggregated_data.values() for sample_id in values)):\n",
    "        # Create a column with sample_id values\n",
    "        column_values = [name]  # First value is the name variable for \"EXP #\" row\n",
    "        column_values.extend([aggregated_data.get(metric, {}).get(sample_id, '') for metric in metric_names[1:]])\n",
    "        result_df[sample_id] = column_values\n",
    "    \n",
    "    result_df.reset_index(inplace=True)\n",
    "    result_df.rename(columns={'index': 'Metric Name'}, inplace=True)\n",
    "    \n",
    "    result_df.to_csv(output_file, index=False)\n",
    "    print(f\"Aggregated metrics saved to {output_file}\")\n",
    "    \n",
    "    return result_df\n",
    "\n",
    "if __name__ == \"__main__\":\n",
    "    directory_path = \"/home/workspace/mm_bm_chip_organoids/EXP-01244/metrics_summaries\"\n",
    "    aggregate_metrics(directory_path, \"EXP-01244\")"
   ]
  },
  {
   "cell_type": "code",
   "execution_count": null,
   "id": "89997759-5384-4b55-88cf-bc40a79395da",
   "metadata": {},
   "outputs": [],
   "source": []
  }
 ],
 "metadata": {
  "kernelspec": {
   "display_name": "Python (minimal)",
   "language": "python",
   "name": "python-minimal"
  },
  "language_info": {
   "codemirror_mode": {
    "name": "ipython",
    "version": 3
   },
   "file_extension": ".py",
   "mimetype": "text/x-python",
   "name": "python",
   "nbconvert_exporter": "python",
   "pygments_lexer": "ipython3",
   "version": "3.11.11"
  }
 },
 "nbformat": 4,
 "nbformat_minor": 5
}
